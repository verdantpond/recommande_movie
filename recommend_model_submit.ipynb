{
 "cells": [
  {
   "cell_type": "markdown",
   "id": "psychological-trade",
   "metadata": {},
   "source": [
    "# Ⅰ. 주요 개념"
   ]
  },
  {
   "cell_type": "markdown",
   "id": "varied-receipt",
   "metadata": {},
   "source": [
    "##### 협업 필터링(Collaborative Filtering, CF)\n",
    "다수 사용자의 아이템 구매 이력 정보만으로 사용자 간 유사성 및 아이템 간 유사성을 파악. 아이템과 사용자 간의 행동/관계에 주목    \n",
    "참고논문 : Collaborative Filtering for Implicit Feedback Datasets http://yifanhu.net/PUB/cf.pdf\n",
    "\n",
    "##### 콘텐츠 기반 필터링\n",
    "아이템의 고유 정보를 바탕으로 아이템 간 유사성을 파악. 아이템 고유 속성에 주목\n",
    "##### 콜드 스타트 cold start\n",
    "시스템이 충분한 정보를 모으지 못한 사용자나 아이템에 대한 추론을 할 수 없는 상태를 말함. 협업 필터링에서의 주요 제약요인 중 하나다. 이를 극복하는 방안으로 회원가입시 개인정보에서 아이템과 관련된 정보 수집.\n",
    "##### 암묵적(implicit) 데이터\n",
    "아이템에 대한 명확한 선호를 제시한 것 외에 다른 정보로 선호를 유추할 수 있는 평가하는 것을 말함. e.g) 음원의 경우 플레이 횟수, 플레이 시간, 클릭 수, 구매 여부, 플레이 스킵 여부, 검색 기록, 방문 페이지 이력, 구매 내역 등\n",
    "##### MF(Matrix Factorization)\n",
    "m,n) 사이즈의 행렬 R을 (m,k) 사이즈의 행렬 P와 (k,n) 사이즈의 행렬 Q로 분해한다면 R이란 그저 P와 Q의 행렬곱으로 표현 가능할 수 있다\n",
    "##### CSR(Compressed Sparse Row) Matrix\n",
    "행렬의 크기가 매우 크면 이를 저장하고 연산해야 할 메모리의 제약으로, 제한된 메모리에 용량이 큰 행렬을 담을 수 있게 하는 기법. 유효한 값을 가진 데이터의 값과 좌표 정보만 구성함으로써 메모리 사용량을 최소화함."
   ]
  },
  {
   "cell_type": "code",
   "execution_count": null,
   "id": "straight-begin",
   "metadata": {},
   "outputs": [],
   "source": [
    "import numpy as np\n",
    "from scipy.sparse import csr_matrix\n",
    "\n",
    "row = np.array([0, 0, 1, 2, 2, 2])\n",
    "col = np.array([0, 2, 2, 0, 1, 2])\n",
    "data = np.array([1, 2, 3, 4, 5, 6])\n",
    "\n",
    "a = csr_matrix((data, (row, col)), shape=(3, 3)).toarray()\n",
    "a"
   ]
  },
  {
   "cell_type": "markdown",
   "id": "lucky-growing",
   "metadata": {},
   "source": [
    "# Ⅱ. 프로세스와 주요 함수/클래스"
   ]
  },
  {
   "cell_type": "markdown",
   "id": "manual-commodity",
   "metadata": {},
   "source": [
    "## 1. 프로세스    \n",
    "#### (1) MF Matric 만들기    \n",
    "    - (사용자*잠재적 요인)행렬과 (잠재적 요인*영화)행렬 생성   \n",
    "    - 사용자별 영화에 대한 시청횟수가 모두 있는게 아니므로 CSR Matrix로 생성     \n",
    "#### (2) implict의 als모델로 학습    \n",
    "     - 여러 특성을 한꺼번에 학습할 수 없으므로 한쪽을 고정시키고 학습하고 교대하여 학습하는 알고리즘  \n",
    "     - 학습후 각 특성변수의 벡터가 생성되고 이것으로 유사한 선호 아이템을 추천할 수 있다.     \n",
    "     - 추천 아이템에 대한 기여도로 추천 이유에 대해서 이해할 수 있다."
   ]
  },
  {
   "cell_type": "markdown",
   "id": "major-appeal",
   "metadata": {},
   "source": [
    "## 2. 패키지의 함수/클래스"
   ]
  },
  {
   "cell_type": "markdown",
   "id": "particular-dress",
   "metadata": {},
   "source": [
    "- pandas.DataFrame.unique()은 특정 컬럼에 포함된 유니크한 데이터만 모아 줍니다. indexing 작업을 위해 매우 유용   \n",
    "- pandas.DataFrame.nunique()은 특정 컬럼에 포함된 유니크한 데이터의 개수를 알아보는데 유용\n",
    "  \n",
    "  \n",
    "##### implicit 패키지\n",
    "- als(AlternatingLeastSquares) 모델 : Matrix Factorization에서 쪼개진 두 Feature Matrix를 한꺼번에 훈련하는 것은 잘 수렴하지 않기 때문에, 한쪽을 고정시키고 다른 쪽을 학습하는 방식을 번갈아 수행   \n",
    "- AlternatingLeastSquares 클래스의 __init__ 파라미터를 살펴보겠습니다.   \n",
    "  ① factors : 유저와 아이템의 벡터를 몇 차원으로 할 것인지     \n",
    "  ② regularization : 과적합을 방지하기 위해 정규화 값을 얼마나 사용할 것인지    \n",
    "  ③ use_gpu : GPU를 사용할 것인지     \n",
    "  ④ iterations : epochs와 같은 의미입니다. 데이터를 몇 번 반복해서 학습할 것인지    \n",
    "- AlternatingLeastSquares 클래스에 구현되어 있는 similar_items 메서드를 통하여 비슷한 아티스트를 찾습니다   \n",
    "- AlternatingLeastSquares 클래스에 구현되어 있는 recommend 메서드를 통하여 제가 좋아할 만한 아티스트를 추천받는다. (filter_already_liked_items 는 유저가 이미 평가한 아이템은 제외하는 Argument)    \n",
    "- AlternatingLeastSquares 클래스에 구현된 explain 메소드를 사용하면 제가 기록을 남긴 데이터 중 이 추천에 기여한 정도를 확인할 수 있습니다"
   ]
  },
  {
   "cell_type": "markdown",
   "id": "recognized-dublin",
   "metadata": {},
   "source": [
    "# Ⅲ. 코드(영화 추천)"
   ]
  },
  {
   "cell_type": "code",
   "execution_count": null,
   "id": "primary-newspaper",
   "metadata": {},
   "outputs": [],
   "source": [
    "# !mkdir -p ~/aiffel/Exploration/09_recommendata_iu/data/ml-1m\n",
    "# !ln -s ~/data/ml-1m/* ~/aiffel/Exploration/09_recommendata_iu/data/ml-1m"
   ]
  },
  {
   "cell_type": "markdown",
   "id": "gentle-australia",
   "metadata": {},
   "source": [
    "영화관련 추천시스템의 MNIST라고 부를만한 Movielens 데이터를 사용하기로 한다.   \n",
    "유저가 영화에 대해 평점을 매긴 데이터가 데이터 크기 별로 있다. MovieLens 1M Dataset 사용하겠다."
   ]
  },
  {
   "cell_type": "markdown",
   "id": "standard-parcel",
   "metadata": {},
   "source": [
    "## 1. 데이터 준비와 전처리"
   ]
  },
  {
   "cell_type": "code",
   "execution_count": 1,
   "id": "efficient-beginning",
   "metadata": {},
   "outputs": [],
   "source": [
    "import os\n",
    "import numpy as np\n",
    "import pandas as pd\n",
    "\n",
    "from scipy.sparse import csr_matrix\n",
    "from implicit.als import AlternatingLeastSquares"
   ]
  },
  {
   "cell_type": "code",
   "execution_count": 2,
   "id": "agricultural-trauma",
   "metadata": {
    "scrolled": false
   },
   "outputs": [
    {
     "data": {
      "text/html": [
       "<div>\n",
       "<style scoped>\n",
       "    .dataframe tbody tr th:only-of-type {\n",
       "        vertical-align: middle;\n",
       "    }\n",
       "\n",
       "    .dataframe tbody tr th {\n",
       "        vertical-align: top;\n",
       "    }\n",
       "\n",
       "    .dataframe thead th {\n",
       "        text-align: right;\n",
       "    }\n",
       "</style>\n",
       "<table border=\"1\" class=\"dataframe\">\n",
       "  <thead>\n",
       "    <tr style=\"text-align: right;\">\n",
       "      <th></th>\n",
       "      <th>user_id</th>\n",
       "      <th>movie_id</th>\n",
       "      <th>ratings</th>\n",
       "      <th>timestamp</th>\n",
       "    </tr>\n",
       "  </thead>\n",
       "  <tbody>\n",
       "    <tr>\n",
       "      <th>0</th>\n",
       "      <td>1</td>\n",
       "      <td>1193</td>\n",
       "      <td>5</td>\n",
       "      <td>978300760</td>\n",
       "    </tr>\n",
       "    <tr>\n",
       "      <th>1</th>\n",
       "      <td>1</td>\n",
       "      <td>661</td>\n",
       "      <td>3</td>\n",
       "      <td>978302109</td>\n",
       "    </tr>\n",
       "    <tr>\n",
       "      <th>2</th>\n",
       "      <td>1</td>\n",
       "      <td>914</td>\n",
       "      <td>3</td>\n",
       "      <td>978301968</td>\n",
       "    </tr>\n",
       "    <tr>\n",
       "      <th>3</th>\n",
       "      <td>1</td>\n",
       "      <td>3408</td>\n",
       "      <td>4</td>\n",
       "      <td>978300275</td>\n",
       "    </tr>\n",
       "    <tr>\n",
       "      <th>4</th>\n",
       "      <td>1</td>\n",
       "      <td>2355</td>\n",
       "      <td>5</td>\n",
       "      <td>978824291</td>\n",
       "    </tr>\n",
       "  </tbody>\n",
       "</table>\n",
       "</div>"
      ],
      "text/plain": [
       "   user_id  movie_id  ratings  timestamp\n",
       "0        1      1193        5  978300760\n",
       "1        1       661        3  978302109\n",
       "2        1       914        3  978301968\n",
       "3        1      3408        4  978300275\n",
       "4        1      2355        5  978824291"
      ]
     },
     "execution_count": 2,
     "metadata": {},
     "output_type": "execute_result"
    }
   ],
   "source": [
    "rating_file_path=os.getenv('HOME') + '/aiffel/Exploration/09_recommendation_iu/data/ml-1m/ratings.dat'\n",
    "ratings_cols = ['user_id', 'movie_id', 'ratings', 'timestamp']\n",
    "ratings = pd.read_csv(rating_file_path, sep='::', names=ratings_cols, engine='python', encoding = \"ISO-8859-1\")\n",
    "orginal_data_size = len(ratings)\n",
    "ratings.head()"
   ]
  },
  {
   "cell_type": "code",
   "execution_count": 3,
   "id": "verbal-porcelain",
   "metadata": {
    "scrolled": false
   },
   "outputs": [
    {
     "data": {
      "text/html": [
       "<div>\n",
       "<style scoped>\n",
       "    .dataframe tbody tr th:only-of-type {\n",
       "        vertical-align: middle;\n",
       "    }\n",
       "\n",
       "    .dataframe tbody tr th {\n",
       "        vertical-align: top;\n",
       "    }\n",
       "\n",
       "    .dataframe thead th {\n",
       "        text-align: right;\n",
       "    }\n",
       "</style>\n",
       "<table border=\"1\" class=\"dataframe\">\n",
       "  <thead>\n",
       "    <tr style=\"text-align: right;\">\n",
       "      <th></th>\n",
       "      <th>movie_id</th>\n",
       "      <th>title</th>\n",
       "      <th>genre</th>\n",
       "    </tr>\n",
       "  </thead>\n",
       "  <tbody>\n",
       "    <tr>\n",
       "      <th>0</th>\n",
       "      <td>1</td>\n",
       "      <td>Toy Story (1995)</td>\n",
       "      <td>Animation|Children's|Comedy</td>\n",
       "    </tr>\n",
       "    <tr>\n",
       "      <th>1</th>\n",
       "      <td>2</td>\n",
       "      <td>Jumanji (1995)</td>\n",
       "      <td>Adventure|Children's|Fantasy</td>\n",
       "    </tr>\n",
       "    <tr>\n",
       "      <th>2</th>\n",
       "      <td>3</td>\n",
       "      <td>Grumpier Old Men (1995)</td>\n",
       "      <td>Comedy|Romance</td>\n",
       "    </tr>\n",
       "    <tr>\n",
       "      <th>3</th>\n",
       "      <td>4</td>\n",
       "      <td>Waiting to Exhale (1995)</td>\n",
       "      <td>Comedy|Drama</td>\n",
       "    </tr>\n",
       "    <tr>\n",
       "      <th>4</th>\n",
       "      <td>5</td>\n",
       "      <td>Father of the Bride Part II (1995)</td>\n",
       "      <td>Comedy</td>\n",
       "    </tr>\n",
       "  </tbody>\n",
       "</table>\n",
       "</div>"
      ],
      "text/plain": [
       "   movie_id                               title                         genre\n",
       "0         1                    Toy Story (1995)   Animation|Children's|Comedy\n",
       "1         2                      Jumanji (1995)  Adventure|Children's|Fantasy\n",
       "2         3             Grumpier Old Men (1995)                Comedy|Romance\n",
       "3         4            Waiting to Exhale (1995)                  Comedy|Drama\n",
       "4         5  Father of the Bride Part II (1995)                        Comedy"
      ]
     },
     "execution_count": 3,
     "metadata": {},
     "output_type": "execute_result"
    }
   ],
   "source": [
    "# 영화 제목을 보기 위해 메타 데이터를 읽어옵니다.\n",
    "movie_file_path=os.getenv('HOME') + '/aiffel/Exploration/09_recommendation_iu/data/ml-1m/movies.dat'\n",
    "cols = ['movie_id', 'title', 'genre'] \n",
    "movies = pd.read_csv(movie_file_path, sep='::', names=cols, engine='python', encoding='ISO-8859-1')\n",
    "movies.head()"
   ]
  },
  {
   "cell_type": "code",
   "execution_count": 4,
   "id": "sudden-hunter",
   "metadata": {},
   "outputs": [
    {
     "data": {
      "text/html": [
       "<div>\n",
       "<style scoped>\n",
       "    .dataframe tbody tr th:only-of-type {\n",
       "        vertical-align: middle;\n",
       "    }\n",
       "\n",
       "    .dataframe tbody tr th {\n",
       "        vertical-align: top;\n",
       "    }\n",
       "\n",
       "    .dataframe thead th {\n",
       "        text-align: right;\n",
       "    }\n",
       "</style>\n",
       "<table border=\"1\" class=\"dataframe\">\n",
       "  <thead>\n",
       "    <tr style=\"text-align: right;\">\n",
       "      <th></th>\n",
       "      <th>user_id</th>\n",
       "      <th>movie_id</th>\n",
       "      <th>ratings</th>\n",
       "      <th>timestamp</th>\n",
       "      <th>title</th>\n",
       "      <th>genre</th>\n",
       "    </tr>\n",
       "  </thead>\n",
       "  <tbody>\n",
       "    <tr>\n",
       "      <th>0</th>\n",
       "      <td>1</td>\n",
       "      <td>1193</td>\n",
       "      <td>5</td>\n",
       "      <td>978300760</td>\n",
       "      <td>One Flew Over the Cuckoo's Nest (1975)</td>\n",
       "      <td>Drama</td>\n",
       "    </tr>\n",
       "    <tr>\n",
       "      <th>1</th>\n",
       "      <td>2</td>\n",
       "      <td>1193</td>\n",
       "      <td>5</td>\n",
       "      <td>978298413</td>\n",
       "      <td>One Flew Over the Cuckoo's Nest (1975)</td>\n",
       "      <td>Drama</td>\n",
       "    </tr>\n",
       "    <tr>\n",
       "      <th>2</th>\n",
       "      <td>12</td>\n",
       "      <td>1193</td>\n",
       "      <td>4</td>\n",
       "      <td>978220179</td>\n",
       "      <td>One Flew Over the Cuckoo's Nest (1975)</td>\n",
       "      <td>Drama</td>\n",
       "    </tr>\n",
       "    <tr>\n",
       "      <th>3</th>\n",
       "      <td>15</td>\n",
       "      <td>1193</td>\n",
       "      <td>4</td>\n",
       "      <td>978199279</td>\n",
       "      <td>One Flew Over the Cuckoo's Nest (1975)</td>\n",
       "      <td>Drama</td>\n",
       "    </tr>\n",
       "    <tr>\n",
       "      <th>4</th>\n",
       "      <td>17</td>\n",
       "      <td>1193</td>\n",
       "      <td>5</td>\n",
       "      <td>978158471</td>\n",
       "      <td>One Flew Over the Cuckoo's Nest (1975)</td>\n",
       "      <td>Drama</td>\n",
       "    </tr>\n",
       "  </tbody>\n",
       "</table>\n",
       "</div>"
      ],
      "text/plain": [
       "   user_id  movie_id  ratings  timestamp  \\\n",
       "0        1      1193        5  978300760   \n",
       "1        2      1193        5  978298413   \n",
       "2       12      1193        4  978220179   \n",
       "3       15      1193        4  978199279   \n",
       "4       17      1193        5  978158471   \n",
       "\n",
       "                                    title  genre  \n",
       "0  One Flew Over the Cuckoo's Nest (1975)  Drama  \n",
       "1  One Flew Over the Cuckoo's Nest (1975)  Drama  \n",
       "2  One Flew Over the Cuckoo's Nest (1975)  Drama  \n",
       "3  One Flew Over the Cuckoo's Nest (1975)  Drama  \n",
       "4  One Flew Over the Cuckoo's Nest (1975)  Drama  "
      ]
     },
     "execution_count": 4,
     "metadata": {},
     "output_type": "execute_result"
    }
   ],
   "source": [
    "#  movies테이블에서 영화관련 정보를 ratings테이블로 가져온다.(pd.merge())\n",
    "df = pd.merge(ratings, movies, on='movie_id')\n",
    "df[:5]"
   ]
  },
  {
   "cell_type": "code",
   "execution_count": 5,
   "id": "whole-football",
   "metadata": {},
   "outputs": [
    {
     "data": {
      "text/html": [
       "<div>\n",
       "<style scoped>\n",
       "    .dataframe tbody tr th:only-of-type {\n",
       "        vertical-align: middle;\n",
       "    }\n",
       "\n",
       "    .dataframe tbody tr th {\n",
       "        vertical-align: top;\n",
       "    }\n",
       "\n",
       "    .dataframe thead th {\n",
       "        text-align: right;\n",
       "    }\n",
       "</style>\n",
       "<table border=\"1\" class=\"dataframe\">\n",
       "  <thead>\n",
       "    <tr style=\"text-align: right;\">\n",
       "      <th></th>\n",
       "      <th>user_id</th>\n",
       "      <th>movie_id</th>\n",
       "      <th>counts</th>\n",
       "      <th>timestamp</th>\n",
       "      <th>title</th>\n",
       "      <th>genre</th>\n",
       "    </tr>\n",
       "  </thead>\n",
       "  <tbody>\n",
       "    <tr>\n",
       "      <th>1000199</th>\n",
       "      <td>5334</td>\n",
       "      <td>3382</td>\n",
       "      <td>5</td>\n",
       "      <td>960796159</td>\n",
       "      <td>song of freedom (1936)</td>\n",
       "      <td>drama</td>\n",
       "    </tr>\n",
       "    <tr>\n",
       "      <th>1000200</th>\n",
       "      <td>5420</td>\n",
       "      <td>1843</td>\n",
       "      <td>3</td>\n",
       "      <td>960156505</td>\n",
       "      <td>slappy and the stinkers (1998)</td>\n",
       "      <td>children's|comedy</td>\n",
       "    </tr>\n",
       "    <tr>\n",
       "      <th>1000201</th>\n",
       "      <td>5433</td>\n",
       "      <td>286</td>\n",
       "      <td>3</td>\n",
       "      <td>960240881</td>\n",
       "      <td>nemesis 2: nebula (1995)</td>\n",
       "      <td>action|sci-fi|thriller</td>\n",
       "    </tr>\n",
       "    <tr>\n",
       "      <th>1000202</th>\n",
       "      <td>5494</td>\n",
       "      <td>3530</td>\n",
       "      <td>4</td>\n",
       "      <td>959816296</td>\n",
       "      <td>smoking/no smoking (1993)</td>\n",
       "      <td>comedy</td>\n",
       "    </tr>\n",
       "    <tr>\n",
       "      <th>1000203</th>\n",
       "      <td>5556</td>\n",
       "      <td>2198</td>\n",
       "      <td>3</td>\n",
       "      <td>959445515</td>\n",
       "      <td>modulations (1998)</td>\n",
       "      <td>documentary</td>\n",
       "    </tr>\n",
       "    <tr>\n",
       "      <th>1000204</th>\n",
       "      <td>5949</td>\n",
       "      <td>2198</td>\n",
       "      <td>5</td>\n",
       "      <td>958846401</td>\n",
       "      <td>modulations (1998)</td>\n",
       "      <td>documentary</td>\n",
       "    </tr>\n",
       "    <tr>\n",
       "      <th>1000205</th>\n",
       "      <td>5675</td>\n",
       "      <td>2703</td>\n",
       "      <td>3</td>\n",
       "      <td>976029116</td>\n",
       "      <td>broken vessels (1998)</td>\n",
       "      <td>drama</td>\n",
       "    </tr>\n",
       "    <tr>\n",
       "      <th>1000206</th>\n",
       "      <td>5780</td>\n",
       "      <td>2845</td>\n",
       "      <td>1</td>\n",
       "      <td>958153068</td>\n",
       "      <td>white boys (1999)</td>\n",
       "      <td>drama</td>\n",
       "    </tr>\n",
       "    <tr>\n",
       "      <th>1000207</th>\n",
       "      <td>5851</td>\n",
       "      <td>3607</td>\n",
       "      <td>5</td>\n",
       "      <td>957756608</td>\n",
       "      <td>one little indian (1973)</td>\n",
       "      <td>comedy|drama|western</td>\n",
       "    </tr>\n",
       "    <tr>\n",
       "      <th>1000208</th>\n",
       "      <td>5938</td>\n",
       "      <td>2909</td>\n",
       "      <td>4</td>\n",
       "      <td>957273353</td>\n",
       "      <td>five wives, three secretaries and me (1998)</td>\n",
       "      <td>documentary</td>\n",
       "    </tr>\n",
       "  </tbody>\n",
       "</table>\n",
       "</div>"
      ],
      "text/plain": [
       "         user_id  movie_id  counts  timestamp  \\\n",
       "1000199     5334      3382       5  960796159   \n",
       "1000200     5420      1843       3  960156505   \n",
       "1000201     5433       286       3  960240881   \n",
       "1000202     5494      3530       4  959816296   \n",
       "1000203     5556      2198       3  959445515   \n",
       "1000204     5949      2198       5  958846401   \n",
       "1000205     5675      2703       3  976029116   \n",
       "1000206     5780      2845       1  958153068   \n",
       "1000207     5851      3607       5  957756608   \n",
       "1000208     5938      2909       4  957273353   \n",
       "\n",
       "                                               title                   genre  \n",
       "1000199                       song of freedom (1936)                   drama  \n",
       "1000200               slappy and the stinkers (1998)       children's|comedy  \n",
       "1000201                     nemesis 2: nebula (1995)  action|sci-fi|thriller  \n",
       "1000202                    smoking/no smoking (1993)                  comedy  \n",
       "1000203                           modulations (1998)             documentary  \n",
       "1000204                           modulations (1998)             documentary  \n",
       "1000205                        broken vessels (1998)                   drama  \n",
       "1000206                            white boys (1999)                   drama  \n",
       "1000207                     one little indian (1973)    comedy|drama|western  \n",
       "1000208  five wives, three secretaries and me (1998)             documentary  "
      ]
     },
     "execution_count": 5,
     "metadata": {},
     "output_type": "execute_result"
    }
   ],
   "source": [
    "# 검색을 쉽게하기 위해 영화 제목과 장르 문자열을 소문자로 바꿔줍시다.\n",
    "df['title'] = df['title'].str.lower() \n",
    "df['genre'] = df['genre'].str.lower() \n",
    "\n",
    "# ratings 컬럼의 이름을 counts로 바꿉니다.\n",
    "df.rename(columns={'ratings':'counts'}, inplace=True)\n",
    "\n",
    "df.tail(10)"
   ]
  },
  {
   "cell_type": "code",
   "execution_count": 6,
   "id": "aerial-spain",
   "metadata": {},
   "outputs": [
    {
     "data": {
      "text/html": [
       "<div>\n",
       "<style scoped>\n",
       "    .dataframe tbody tr th:only-of-type {\n",
       "        vertical-align: middle;\n",
       "    }\n",
       "\n",
       "    .dataframe tbody tr th {\n",
       "        vertical-align: top;\n",
       "    }\n",
       "\n",
       "    .dataframe thead th {\n",
       "        text-align: right;\n",
       "    }\n",
       "</style>\n",
       "<table border=\"1\" class=\"dataframe\">\n",
       "  <thead>\n",
       "    <tr style=\"text-align: right;\">\n",
       "      <th></th>\n",
       "      <th>user_id</th>\n",
       "      <th>title</th>\n",
       "      <th>counts</th>\n",
       "    </tr>\n",
       "  </thead>\n",
       "  <tbody>\n",
       "    <tr>\n",
       "      <th>1000204</th>\n",
       "      <td>5949</td>\n",
       "      <td>modulations (1998)</td>\n",
       "      <td>5</td>\n",
       "    </tr>\n",
       "    <tr>\n",
       "      <th>1000205</th>\n",
       "      <td>5675</td>\n",
       "      <td>broken vessels (1998)</td>\n",
       "      <td>3</td>\n",
       "    </tr>\n",
       "    <tr>\n",
       "      <th>1000206</th>\n",
       "      <td>5780</td>\n",
       "      <td>white boys (1999)</td>\n",
       "      <td>1</td>\n",
       "    </tr>\n",
       "    <tr>\n",
       "      <th>1000207</th>\n",
       "      <td>5851</td>\n",
       "      <td>one little indian (1973)</td>\n",
       "      <td>5</td>\n",
       "    </tr>\n",
       "    <tr>\n",
       "      <th>1000208</th>\n",
       "      <td>5938</td>\n",
       "      <td>five wives, three secretaries and me (1998)</td>\n",
       "      <td>4</td>\n",
       "    </tr>\n",
       "  </tbody>\n",
       "</table>\n",
       "</div>"
      ],
      "text/plain": [
       "         user_id                                        title  counts\n",
       "1000204     5949                           modulations (1998)       5\n",
       "1000205     5675                        broken vessels (1998)       3\n",
       "1000206     5780                            white boys (1999)       1\n",
       "1000207     5851                     one little indian (1973)       5\n",
       "1000208     5938  five wives, three secretaries and me (1998)       4"
      ]
     },
     "execution_count": 6,
     "metadata": {},
     "output_type": "execute_result"
    }
   ],
   "source": [
    "df = df[['user_id', 'title', 'counts']]\n",
    "df.tail()"
   ]
  },
  {
   "cell_type": "markdown",
   "id": "naval-elimination",
   "metadata": {},
   "source": [
    "### 사용자의 암묵적(implicit) 정보"
   ]
  },
  {
   "cell_type": "markdown",
   "id": "assisted-professor",
   "metadata": {},
   "source": [
    "- 별점 데이터는 대표적인 explicit 데이터입니다. 하지만 implicit 데이터로 간주하고 테스트하겠다.\n",
    "- 별점을 시청횟수로 해석해서 생각한다.\n",
    "- 또한 유저가 3점 미만으로 준 데이터는 선호하지 않는다고 가정하고 제외한다."
   ]
  },
  {
   "cell_type": "code",
   "execution_count": 7,
   "id": "utility-promise",
   "metadata": {},
   "outputs": [
    {
     "name": "stdout",
     "output_type": "stream",
     "text": [
      "orginal_data_size: 1000209, filtered_data_size: 836478\n",
      "Ratio of Remaining Data is 83.63%\n"
     ]
    }
   ],
   "source": [
    "# 3점 이상만 남깁니다.\n",
    "df = df[df['counts']>=3]\n",
    "filtered_data_size = len(df)\n",
    "\n",
    "print(f'orginal_data_size: {orginal_data_size}, filtered_data_size: {filtered_data_size}')\n",
    "print(f'Ratio of Remaining Data is {filtered_data_size / orginal_data_size:.2%}')"
   ]
  },
  {
   "cell_type": "code",
   "execution_count": 8,
   "id": "offensive-tunnel",
   "metadata": {},
   "outputs": [
    {
     "data": {
      "text/html": [
       "<div>\n",
       "<style scoped>\n",
       "    .dataframe tbody tr th:only-of-type {\n",
       "        vertical-align: middle;\n",
       "    }\n",
       "\n",
       "    .dataframe tbody tr th {\n",
       "        vertical-align: top;\n",
       "    }\n",
       "\n",
       "    .dataframe thead th {\n",
       "        text-align: right;\n",
       "    }\n",
       "</style>\n",
       "<table border=\"1\" class=\"dataframe\">\n",
       "  <thead>\n",
       "    <tr style=\"text-align: right;\">\n",
       "      <th></th>\n",
       "      <th>user_id</th>\n",
       "      <th>movie_id</th>\n",
       "      <th>ratings</th>\n",
       "      <th>timestamp</th>\n",
       "    </tr>\n",
       "  </thead>\n",
       "  <tbody>\n",
       "    <tr>\n",
       "      <th>0</th>\n",
       "      <td>1</td>\n",
       "      <td>1193</td>\n",
       "      <td>5</td>\n",
       "      <td>978300760</td>\n",
       "    </tr>\n",
       "    <tr>\n",
       "      <th>1</th>\n",
       "      <td>1</td>\n",
       "      <td>661</td>\n",
       "      <td>3</td>\n",
       "      <td>978302109</td>\n",
       "    </tr>\n",
       "    <tr>\n",
       "      <th>2</th>\n",
       "      <td>1</td>\n",
       "      <td>914</td>\n",
       "      <td>3</td>\n",
       "      <td>978301968</td>\n",
       "    </tr>\n",
       "    <tr>\n",
       "      <th>3</th>\n",
       "      <td>1</td>\n",
       "      <td>3408</td>\n",
       "      <td>4</td>\n",
       "      <td>978300275</td>\n",
       "    </tr>\n",
       "    <tr>\n",
       "      <th>4</th>\n",
       "      <td>1</td>\n",
       "      <td>2355</td>\n",
       "      <td>5</td>\n",
       "      <td>978824291</td>\n",
       "    </tr>\n",
       "    <tr>\n",
       "      <th>5</th>\n",
       "      <td>1</td>\n",
       "      <td>1197</td>\n",
       "      <td>3</td>\n",
       "      <td>978302268</td>\n",
       "    </tr>\n",
       "    <tr>\n",
       "      <th>6</th>\n",
       "      <td>1</td>\n",
       "      <td>1287</td>\n",
       "      <td>5</td>\n",
       "      <td>978302039</td>\n",
       "    </tr>\n",
       "    <tr>\n",
       "      <th>7</th>\n",
       "      <td>1</td>\n",
       "      <td>2804</td>\n",
       "      <td>5</td>\n",
       "      <td>978300719</td>\n",
       "    </tr>\n",
       "    <tr>\n",
       "      <th>8</th>\n",
       "      <td>1</td>\n",
       "      <td>594</td>\n",
       "      <td>4</td>\n",
       "      <td>978302268</td>\n",
       "    </tr>\n",
       "    <tr>\n",
       "      <th>9</th>\n",
       "      <td>1</td>\n",
       "      <td>919</td>\n",
       "      <td>4</td>\n",
       "      <td>978301368</td>\n",
       "    </tr>\n",
       "    <tr>\n",
       "      <th>10</th>\n",
       "      <td>1</td>\n",
       "      <td>595</td>\n",
       "      <td>5</td>\n",
       "      <td>978824268</td>\n",
       "    </tr>\n",
       "    <tr>\n",
       "      <th>11</th>\n",
       "      <td>1</td>\n",
       "      <td>938</td>\n",
       "      <td>4</td>\n",
       "      <td>978301752</td>\n",
       "    </tr>\n",
       "    <tr>\n",
       "      <th>12</th>\n",
       "      <td>1</td>\n",
       "      <td>2398</td>\n",
       "      <td>4</td>\n",
       "      <td>978302281</td>\n",
       "    </tr>\n",
       "    <tr>\n",
       "      <th>13</th>\n",
       "      <td>1</td>\n",
       "      <td>2918</td>\n",
       "      <td>4</td>\n",
       "      <td>978302124</td>\n",
       "    </tr>\n",
       "    <tr>\n",
       "      <th>14</th>\n",
       "      <td>1</td>\n",
       "      <td>1035</td>\n",
       "      <td>5</td>\n",
       "      <td>978301753</td>\n",
       "    </tr>\n",
       "    <tr>\n",
       "      <th>15</th>\n",
       "      <td>1</td>\n",
       "      <td>2791</td>\n",
       "      <td>4</td>\n",
       "      <td>978302188</td>\n",
       "    </tr>\n",
       "    <tr>\n",
       "      <th>16</th>\n",
       "      <td>1</td>\n",
       "      <td>2687</td>\n",
       "      <td>3</td>\n",
       "      <td>978824268</td>\n",
       "    </tr>\n",
       "    <tr>\n",
       "      <th>17</th>\n",
       "      <td>1</td>\n",
       "      <td>2018</td>\n",
       "      <td>4</td>\n",
       "      <td>978301777</td>\n",
       "    </tr>\n",
       "    <tr>\n",
       "      <th>18</th>\n",
       "      <td>1</td>\n",
       "      <td>3105</td>\n",
       "      <td>5</td>\n",
       "      <td>978301713</td>\n",
       "    </tr>\n",
       "    <tr>\n",
       "      <th>19</th>\n",
       "      <td>1</td>\n",
       "      <td>2797</td>\n",
       "      <td>4</td>\n",
       "      <td>978302039</td>\n",
       "    </tr>\n",
       "    <tr>\n",
       "      <th>20</th>\n",
       "      <td>1</td>\n",
       "      <td>2321</td>\n",
       "      <td>3</td>\n",
       "      <td>978302205</td>\n",
       "    </tr>\n",
       "    <tr>\n",
       "      <th>21</th>\n",
       "      <td>1</td>\n",
       "      <td>720</td>\n",
       "      <td>3</td>\n",
       "      <td>978300760</td>\n",
       "    </tr>\n",
       "    <tr>\n",
       "      <th>22</th>\n",
       "      <td>1</td>\n",
       "      <td>1270</td>\n",
       "      <td>5</td>\n",
       "      <td>978300055</td>\n",
       "    </tr>\n",
       "    <tr>\n",
       "      <th>23</th>\n",
       "      <td>1</td>\n",
       "      <td>527</td>\n",
       "      <td>5</td>\n",
       "      <td>978824195</td>\n",
       "    </tr>\n",
       "    <tr>\n",
       "      <th>24</th>\n",
       "      <td>1</td>\n",
       "      <td>2340</td>\n",
       "      <td>3</td>\n",
       "      <td>978300103</td>\n",
       "    </tr>\n",
       "    <tr>\n",
       "      <th>25</th>\n",
       "      <td>1</td>\n",
       "      <td>48</td>\n",
       "      <td>5</td>\n",
       "      <td>978824351</td>\n",
       "    </tr>\n",
       "    <tr>\n",
       "      <th>26</th>\n",
       "      <td>1</td>\n",
       "      <td>1097</td>\n",
       "      <td>4</td>\n",
       "      <td>978301953</td>\n",
       "    </tr>\n",
       "    <tr>\n",
       "      <th>27</th>\n",
       "      <td>1</td>\n",
       "      <td>1721</td>\n",
       "      <td>4</td>\n",
       "      <td>978300055</td>\n",
       "    </tr>\n",
       "    <tr>\n",
       "      <th>28</th>\n",
       "      <td>1</td>\n",
       "      <td>1545</td>\n",
       "      <td>4</td>\n",
       "      <td>978824139</td>\n",
       "    </tr>\n",
       "    <tr>\n",
       "      <th>29</th>\n",
       "      <td>1</td>\n",
       "      <td>745</td>\n",
       "      <td>3</td>\n",
       "      <td>978824268</td>\n",
       "    </tr>\n",
       "    <tr>\n",
       "      <th>30</th>\n",
       "      <td>1</td>\n",
       "      <td>2294</td>\n",
       "      <td>4</td>\n",
       "      <td>978824291</td>\n",
       "    </tr>\n",
       "    <tr>\n",
       "      <th>31</th>\n",
       "      <td>1</td>\n",
       "      <td>3186</td>\n",
       "      <td>4</td>\n",
       "      <td>978300019</td>\n",
       "    </tr>\n",
       "    <tr>\n",
       "      <th>32</th>\n",
       "      <td>1</td>\n",
       "      <td>1566</td>\n",
       "      <td>4</td>\n",
       "      <td>978824330</td>\n",
       "    </tr>\n",
       "    <tr>\n",
       "      <th>33</th>\n",
       "      <td>1</td>\n",
       "      <td>588</td>\n",
       "      <td>4</td>\n",
       "      <td>978824268</td>\n",
       "    </tr>\n",
       "    <tr>\n",
       "      <th>34</th>\n",
       "      <td>1</td>\n",
       "      <td>1907</td>\n",
       "      <td>4</td>\n",
       "      <td>978824330</td>\n",
       "    </tr>\n",
       "    <tr>\n",
       "      <th>35</th>\n",
       "      <td>1</td>\n",
       "      <td>783</td>\n",
       "      <td>4</td>\n",
       "      <td>978824291</td>\n",
       "    </tr>\n",
       "    <tr>\n",
       "      <th>36</th>\n",
       "      <td>1</td>\n",
       "      <td>1836</td>\n",
       "      <td>5</td>\n",
       "      <td>978300172</td>\n",
       "    </tr>\n",
       "    <tr>\n",
       "      <th>37</th>\n",
       "      <td>1</td>\n",
       "      <td>1022</td>\n",
       "      <td>5</td>\n",
       "      <td>978300055</td>\n",
       "    </tr>\n",
       "    <tr>\n",
       "      <th>38</th>\n",
       "      <td>1</td>\n",
       "      <td>2762</td>\n",
       "      <td>4</td>\n",
       "      <td>978302091</td>\n",
       "    </tr>\n",
       "    <tr>\n",
       "      <th>39</th>\n",
       "      <td>1</td>\n",
       "      <td>150</td>\n",
       "      <td>5</td>\n",
       "      <td>978301777</td>\n",
       "    </tr>\n",
       "    <tr>\n",
       "      <th>40</th>\n",
       "      <td>1</td>\n",
       "      <td>1</td>\n",
       "      <td>5</td>\n",
       "      <td>978824268</td>\n",
       "    </tr>\n",
       "    <tr>\n",
       "      <th>41</th>\n",
       "      <td>1</td>\n",
       "      <td>1961</td>\n",
       "      <td>5</td>\n",
       "      <td>978301590</td>\n",
       "    </tr>\n",
       "    <tr>\n",
       "      <th>42</th>\n",
       "      <td>1</td>\n",
       "      <td>1962</td>\n",
       "      <td>4</td>\n",
       "      <td>978301753</td>\n",
       "    </tr>\n",
       "    <tr>\n",
       "      <th>43</th>\n",
       "      <td>1</td>\n",
       "      <td>2692</td>\n",
       "      <td>4</td>\n",
       "      <td>978301570</td>\n",
       "    </tr>\n",
       "    <tr>\n",
       "      <th>44</th>\n",
       "      <td>1</td>\n",
       "      <td>260</td>\n",
       "      <td>4</td>\n",
       "      <td>978300760</td>\n",
       "    </tr>\n",
       "    <tr>\n",
       "      <th>45</th>\n",
       "      <td>1</td>\n",
       "      <td>1028</td>\n",
       "      <td>5</td>\n",
       "      <td>978301777</td>\n",
       "    </tr>\n",
       "    <tr>\n",
       "      <th>46</th>\n",
       "      <td>1</td>\n",
       "      <td>1029</td>\n",
       "      <td>5</td>\n",
       "      <td>978302205</td>\n",
       "    </tr>\n",
       "    <tr>\n",
       "      <th>47</th>\n",
       "      <td>1</td>\n",
       "      <td>1207</td>\n",
       "      <td>4</td>\n",
       "      <td>978300719</td>\n",
       "    </tr>\n",
       "    <tr>\n",
       "      <th>48</th>\n",
       "      <td>1</td>\n",
       "      <td>2028</td>\n",
       "      <td>5</td>\n",
       "      <td>978301619</td>\n",
       "    </tr>\n",
       "    <tr>\n",
       "      <th>49</th>\n",
       "      <td>1</td>\n",
       "      <td>531</td>\n",
       "      <td>4</td>\n",
       "      <td>978302149</td>\n",
       "    </tr>\n",
       "    <tr>\n",
       "      <th>50</th>\n",
       "      <td>1</td>\n",
       "      <td>3114</td>\n",
       "      <td>4</td>\n",
       "      <td>978302174</td>\n",
       "    </tr>\n",
       "    <tr>\n",
       "      <th>51</th>\n",
       "      <td>1</td>\n",
       "      <td>608</td>\n",
       "      <td>4</td>\n",
       "      <td>978301398</td>\n",
       "    </tr>\n",
       "    <tr>\n",
       "      <th>52</th>\n",
       "      <td>1</td>\n",
       "      <td>1246</td>\n",
       "      <td>4</td>\n",
       "      <td>978302091</td>\n",
       "    </tr>\n",
       "  </tbody>\n",
       "</table>\n",
       "</div>"
      ],
      "text/plain": [
       "    user_id  movie_id  ratings  timestamp\n",
       "0         1      1193        5  978300760\n",
       "1         1       661        3  978302109\n",
       "2         1       914        3  978301968\n",
       "3         1      3408        4  978300275\n",
       "4         1      2355        5  978824291\n",
       "5         1      1197        3  978302268\n",
       "6         1      1287        5  978302039\n",
       "7         1      2804        5  978300719\n",
       "8         1       594        4  978302268\n",
       "9         1       919        4  978301368\n",
       "10        1       595        5  978824268\n",
       "11        1       938        4  978301752\n",
       "12        1      2398        4  978302281\n",
       "13        1      2918        4  978302124\n",
       "14        1      1035        5  978301753\n",
       "15        1      2791        4  978302188\n",
       "16        1      2687        3  978824268\n",
       "17        1      2018        4  978301777\n",
       "18        1      3105        5  978301713\n",
       "19        1      2797        4  978302039\n",
       "20        1      2321        3  978302205\n",
       "21        1       720        3  978300760\n",
       "22        1      1270        5  978300055\n",
       "23        1       527        5  978824195\n",
       "24        1      2340        3  978300103\n",
       "25        1        48        5  978824351\n",
       "26        1      1097        4  978301953\n",
       "27        1      1721        4  978300055\n",
       "28        1      1545        4  978824139\n",
       "29        1       745        3  978824268\n",
       "30        1      2294        4  978824291\n",
       "31        1      3186        4  978300019\n",
       "32        1      1566        4  978824330\n",
       "33        1       588        4  978824268\n",
       "34        1      1907        4  978824330\n",
       "35        1       783        4  978824291\n",
       "36        1      1836        5  978300172\n",
       "37        1      1022        5  978300055\n",
       "38        1      2762        4  978302091\n",
       "39        1       150        5  978301777\n",
       "40        1         1        5  978824268\n",
       "41        1      1961        5  978301590\n",
       "42        1      1962        4  978301753\n",
       "43        1      2692        4  978301570\n",
       "44        1       260        4  978300760\n",
       "45        1      1028        5  978301777\n",
       "46        1      1029        5  978302205\n",
       "47        1      1207        4  978300719\n",
       "48        1      2028        5  978301619\n",
       "49        1       531        4  978302149\n",
       "50        1      3114        4  978302174\n",
       "51        1       608        4  978301398\n",
       "52        1      1246        4  978302091"
      ]
     },
     "execution_count": 8,
     "metadata": {},
     "output_type": "execute_result"
    }
   ],
   "source": [
    "#  첫 번째 유저가 어떤 영화를 보는지 확인\n",
    "condition_u = (ratings['user_id']== ratings.loc[0, 'user_id'])\n",
    "ratings.loc[condition_u]"
   ]
  },
  {
   "cell_type": "markdown",
   "id": "nervous-commitment",
   "metadata": {},
   "source": [
    "## 2. 데이터 분석 및 전처리"
   ]
  },
  {
   "cell_type": "markdown",
   "id": "compatible-payroll",
   "metadata": {},
   "source": [
    "### 데이터 분석"
   ]
  },
  {
   "cell_type": "code",
   "execution_count": 9,
   "id": "photographic-florida",
   "metadata": {},
   "outputs": [
    {
     "name": "stdout",
     "output_type": "stream",
     "text": [
      "<class 'pandas.core.frame.DataFrame'>\n",
      "Int64Index: 836478 entries, 0 to 1000208\n",
      "Data columns (total 3 columns):\n",
      " #   Column   Non-Null Count   Dtype \n",
      "---  ------   --------------   ----- \n",
      " 0   user_id  836478 non-null  int64 \n",
      " 1   title    836478 non-null  object\n",
      " 2   counts   836478 non-null  int64 \n",
      "dtypes: int64(2), object(1)\n",
      "memory usage: 25.5+ MB\n"
     ]
    }
   ],
   "source": [
    "df.info()"
   ]
  },
  {
   "cell_type": "code",
   "execution_count": 10,
   "id": "active-peninsula",
   "metadata": {},
   "outputs": [
    {
     "name": "stdout",
     "output_type": "stream",
     "text": [
      "사용자 수 :  6039          영화 수 :  3628\n"
     ]
    }
   ],
   "source": [
    "# 사용자 수\n",
    "num_user = df['user_id'].nunique()\n",
    "# 영화 수\n",
    "num_movie = df['title'].nunique()\n",
    "\n",
    "print('사용자 수 : ', num_user, '         영화 수 : ', num_movie)"
   ]
  },
  {
   "cell_type": "code",
   "execution_count": 11,
   "id": "affecting-farmer",
   "metadata": {},
   "outputs": [
    {
     "data": {
      "text/plain": [
       "title\n",
       "american beauty (1999)                                   14449\n",
       "star wars: episode iv - a new hope (1977)                13178\n",
       "star wars: episode v - the empire strikes back (1980)    12648\n",
       "saving private ryan (1998)                               11348\n",
       "star wars: episode vi - return of the jedi (1983)        11303\n",
       "raiders of the lost ark (1981)                           11179\n",
       "silence of the lambs, the (1991)                         11096\n",
       "matrix, the (1999)                                       10903\n",
       "sixth sense, the (1999)                                  10703\n",
       "terminator 2: judgment day (1991)                        10513\n",
       "fargo (1996)                                             10465\n",
       "schindler's list (1993)                                  10317\n",
       "braveheart (1995)                                        10125\n",
       "shawshank redemption, the (1994)                         10085\n",
       "back to the future (1985)                                10081\n",
       "godfather, the (1972)                                     9965\n",
       "princess bride, the (1987)                                9866\n",
       "jurassic park (1993)                                      9601\n",
       "l.a. confidential (1997)                                  9515\n",
       "shakespeare in love (1998)                                9503\n",
       "men in black (1997)                                       9057\n",
       "pulp fiction (1994)                                       9053\n",
       "being john malkovich (1999)                               8964\n",
       "groundhog day (1993)                                      8727\n",
       "e.t. the extra-terrestrial (1982)                         8696\n",
       "forrest gump (1994)                                       8679\n",
       "terminator, the (1984)                                    8571\n",
       "toy story (1995)                                          8475\n",
       "ghostbusters (1984)                                       8282\n",
       "alien (1979)                                              8244\n",
       "Name: counts, dtype: int64"
      ]
     },
     "execution_count": 11,
     "metadata": {},
     "output_type": "execute_result"
    }
   ],
   "source": [
    "# 인기 많은 영화 30개(인기순)\n",
    "movie_count = df.groupby('title')['counts'].sum()\n",
    "movie_count.sort_values(ascending=False).head(30)"
   ]
  },
  {
   "cell_type": "code",
   "execution_count": 12,
   "id": "floppy-output",
   "metadata": {},
   "outputs": [
    {
     "data": {
      "text/plain": [
       "count    6039.000000\n",
       "mean      138.512668\n",
       "std       156.241599\n",
       "min         1.000000\n",
       "25%        38.000000\n",
       "50%        81.000000\n",
       "75%       177.000000\n",
       "max      1968.000000\n",
       "Name: title, dtype: float64"
      ]
     },
     "execution_count": 12,
     "metadata": {},
     "output_type": "execute_result"
    }
   ],
   "source": [
    "# 유저별 관람한 영화 갯수 통계\n",
    "user_count = df.groupby('user_id')['title'].count()\n",
    "user_count.describe()"
   ]
  },
  {
   "cell_type": "code",
   "execution_count": 13,
   "id": "female-tanzania",
   "metadata": {},
   "outputs": [
    {
     "data": {
      "text/plain": [
       "count    6039.000000\n",
       "mean        4.055970\n",
       "std         0.432143\n",
       "min         3.000000\n",
       "25%         4.000000\n",
       "50%         4.000000\n",
       "75%         4.000000\n",
       "max         5.000000\n",
       "Name: counts, dtype: float64"
      ]
     },
     "execution_count": 13,
     "metadata": {},
     "output_type": "execute_result"
    }
   ],
   "source": [
    "# 유저별 영화 관람횟수 중앙값에 대한 통계\n",
    "user_median = df.groupby('user_id')['counts'].median()\n",
    "user_median.describe()"
   ]
  },
  {
   "cell_type": "markdown",
   "id": "overhead-cemetery",
   "metadata": {},
   "source": [
    "# 3. 내가 선호하는 영화를 5가지 골라서 DF에 추가"
   ]
  },
  {
   "cell_type": "code",
   "execution_count": 14,
   "id": "rural-transmission",
   "metadata": {},
   "outputs": [
    {
     "data": {
      "text/html": [
       "<div>\n",
       "<style scoped>\n",
       "    .dataframe tbody tr th:only-of-type {\n",
       "        vertical-align: middle;\n",
       "    }\n",
       "\n",
       "    .dataframe tbody tr th {\n",
       "        vertical-align: top;\n",
       "    }\n",
       "\n",
       "    .dataframe thead th {\n",
       "        text-align: right;\n",
       "    }\n",
       "</style>\n",
       "<table border=\"1\" class=\"dataframe\">\n",
       "  <thead>\n",
       "    <tr style=\"text-align: right;\">\n",
       "      <th></th>\n",
       "      <th>user_id</th>\n",
       "      <th>title</th>\n",
       "      <th>counts</th>\n",
       "    </tr>\n",
       "  </thead>\n",
       "  <tbody>\n",
       "    <tr>\n",
       "      <th>1000203</th>\n",
       "      <td>5556</td>\n",
       "      <td>modulations (1998)</td>\n",
       "      <td>3</td>\n",
       "    </tr>\n",
       "    <tr>\n",
       "      <th>1000204</th>\n",
       "      <td>5949</td>\n",
       "      <td>modulations (1998)</td>\n",
       "      <td>5</td>\n",
       "    </tr>\n",
       "    <tr>\n",
       "      <th>1000205</th>\n",
       "      <td>5675</td>\n",
       "      <td>broken vessels (1998)</td>\n",
       "      <td>3</td>\n",
       "    </tr>\n",
       "    <tr>\n",
       "      <th>1000207</th>\n",
       "      <td>5851</td>\n",
       "      <td>one little indian (1973)</td>\n",
       "      <td>5</td>\n",
       "    </tr>\n",
       "    <tr>\n",
       "      <th>1000208</th>\n",
       "      <td>5938</td>\n",
       "      <td>five wives, three secretaries and me (1998)</td>\n",
       "      <td>4</td>\n",
       "    </tr>\n",
       "    <tr>\n",
       "      <th>0</th>\n",
       "      <td>lee</td>\n",
       "      <td>braveheart (1995)</td>\n",
       "      <td>5</td>\n",
       "    </tr>\n",
       "    <tr>\n",
       "      <th>1</th>\n",
       "      <td>lee</td>\n",
       "      <td>shawshank redemption, the (1994)</td>\n",
       "      <td>5</td>\n",
       "    </tr>\n",
       "    <tr>\n",
       "      <th>2</th>\n",
       "      <td>lee</td>\n",
       "      <td>forrest gump (1994)</td>\n",
       "      <td>5</td>\n",
       "    </tr>\n",
       "    <tr>\n",
       "      <th>3</th>\n",
       "      <td>lee</td>\n",
       "      <td>silence of the lambs, the (1991)</td>\n",
       "      <td>5</td>\n",
       "    </tr>\n",
       "    <tr>\n",
       "      <th>4</th>\n",
       "      <td>lee</td>\n",
       "      <td>raiders of the lost ark (1981)</td>\n",
       "      <td>5</td>\n",
       "    </tr>\n",
       "  </tbody>\n",
       "</table>\n",
       "</div>"
      ],
      "text/plain": [
       "        user_id                                        title  counts\n",
       "1000203    5556                           modulations (1998)       3\n",
       "1000204    5949                           modulations (1998)       5\n",
       "1000205    5675                        broken vessels (1998)       3\n",
       "1000207    5851                     one little indian (1973)       5\n",
       "1000208    5938  five wives, three secretaries and me (1998)       4\n",
       "0           lee                            braveheart (1995)       5\n",
       "1           lee             shawshank redemption, the (1994)       5\n",
       "2           lee                          forrest gump (1994)       5\n",
       "3           lee             silence of the lambs, the (1991)       5\n",
       "4           lee               raiders of the lost ark (1981)       5"
      ]
     },
     "execution_count": 14,
     "metadata": {},
     "output_type": "execute_result"
    }
   ],
   "source": [
    "# 내가 선호하는 영화 5개를 추가\n",
    "# 이름은 꼭 데이터셋에 있는 것과 동일하게 맞춰주세요. \n",
    "my_favorite = ['braveheart (1995)' , 'shawshank redemption, the (1994)' ,'forrest gump (1994)' ,\n",
    "               'silence of the lambs, the (1991)' ,'raiders of the lost ark (1981)']\n",
    "\n",
    "# 'zimin'이라는 user_id가 위 아티스트의 노래를 30회씩 들었다고 가정하겠습니다.\n",
    "my_playlist = pd.DataFrame({'user_id': ['lee']*5, 'title': my_favorite, 'counts':[5]*5})\n",
    "\n",
    "if not df.isin({'user_id':['lee']})['user_id'].any():  # user_id에 'zimin'이라는 데이터가 없다면\n",
    "    df = df.append(my_playlist)                           # 위에 임의로 만든 my_favorite 데이터를 추가해 줍니다. \n",
    "\n",
    "df.tail(10)       # 잘 추가되었는지 확인해 봅시다."
   ]
  },
  {
   "cell_type": "markdown",
   "id": "greater-kinase",
   "metadata": {},
   "source": [
    "# 4. CSR Matrix 만들기"
   ]
  },
  {
   "cell_type": "markdown",
   "id": "floral-behavior",
   "metadata": {},
   "source": [
    "## (1) 모델에 활용하기 위한 전처리"
   ]
  },
  {
   "cell_type": "code",
   "execution_count": 15,
   "id": "interracial-appliance",
   "metadata": {},
   "outputs": [],
   "source": [
    "# 고유한 유저, 아티스트를 찾아내는 코드\n",
    "user_unique = df['user_id'].unique()\n",
    "movie_unique = df['title'].unique()\n",
    "\n",
    "# 유저, 영화 indexing 하는 코드 idx는 index의 약자입니다.\n",
    "user_to_idx = {v:k for k,v in enumerate(user_unique)}\n",
    "movie_to_idx = {v:k for k,v in enumerate(movie_unique)}"
   ]
  },
  {
   "cell_type": "code",
   "execution_count": 16,
   "id": "mysterious-philippines",
   "metadata": {},
   "outputs": [
    {
     "name": "stdout",
     "output_type": "stream",
     "text": [
      "6039\n",
      "92\n"
     ]
    }
   ],
   "source": [
    "# 인덱싱이 잘 되었는지 확인해 봅니다. \n",
    "print(user_to_idx['lee'])    # 6039명의 유저 중 마지막으로 추가된 유저이니 6039이 나와야 합니다. \n",
    "print(movie_to_idx['braveheart (1995)'])"
   ]
  },
  {
   "cell_type": "code",
   "execution_count": 17,
   "id": "binary-citizen",
   "metadata": {},
   "outputs": [
    {
     "data": {
      "text/html": [
       "<div>\n",
       "<style scoped>\n",
       "    .dataframe tbody tr th:only-of-type {\n",
       "        vertical-align: middle;\n",
       "    }\n",
       "\n",
       "    .dataframe tbody tr th {\n",
       "        vertical-align: top;\n",
       "    }\n",
       "\n",
       "    .dataframe thead th {\n",
       "        text-align: right;\n",
       "    }\n",
       "</style>\n",
       "<table border=\"1\" class=\"dataframe\">\n",
       "  <thead>\n",
       "    <tr style=\"text-align: right;\">\n",
       "      <th></th>\n",
       "      <th>user_id</th>\n",
       "      <th>title</th>\n",
       "      <th>counts</th>\n",
       "      <th>user</th>\n",
       "      <th>movie</th>\n",
       "    </tr>\n",
       "  </thead>\n",
       "  <tbody>\n",
       "    <tr>\n",
       "      <th>1000203</th>\n",
       "      <td>5556</td>\n",
       "      <td>modulations (1998)</td>\n",
       "      <td>3</td>\n",
       "      <td>1532</td>\n",
       "      <td>3624</td>\n",
       "    </tr>\n",
       "    <tr>\n",
       "      <th>1000204</th>\n",
       "      <td>5949</td>\n",
       "      <td>modulations (1998)</td>\n",
       "      <td>5</td>\n",
       "      <td>1649</td>\n",
       "      <td>3624</td>\n",
       "    </tr>\n",
       "    <tr>\n",
       "      <th>1000205</th>\n",
       "      <td>5675</td>\n",
       "      <td>broken vessels (1998)</td>\n",
       "      <td>3</td>\n",
       "      <td>1564</td>\n",
       "      <td>3625</td>\n",
       "    </tr>\n",
       "    <tr>\n",
       "      <th>1000207</th>\n",
       "      <td>5851</td>\n",
       "      <td>one little indian (1973)</td>\n",
       "      <td>5</td>\n",
       "      <td>1621</td>\n",
       "      <td>3626</td>\n",
       "    </tr>\n",
       "    <tr>\n",
       "      <th>1000208</th>\n",
       "      <td>5938</td>\n",
       "      <td>five wives, three secretaries and me (1998)</td>\n",
       "      <td>4</td>\n",
       "      <td>4159</td>\n",
       "      <td>3627</td>\n",
       "    </tr>\n",
       "    <tr>\n",
       "      <th>0</th>\n",
       "      <td>lee</td>\n",
       "      <td>braveheart (1995)</td>\n",
       "      <td>5</td>\n",
       "      <td>6039</td>\n",
       "      <td>92</td>\n",
       "    </tr>\n",
       "    <tr>\n",
       "      <th>1</th>\n",
       "      <td>lee</td>\n",
       "      <td>shawshank redemption, the (1994)</td>\n",
       "      <td>5</td>\n",
       "      <td>6039</td>\n",
       "      <td>167</td>\n",
       "    </tr>\n",
       "    <tr>\n",
       "      <th>2</th>\n",
       "      <td>lee</td>\n",
       "      <td>forrest gump (1994)</td>\n",
       "      <td>5</td>\n",
       "      <td>6039</td>\n",
       "      <td>171</td>\n",
       "    </tr>\n",
       "    <tr>\n",
       "      <th>3</th>\n",
       "      <td>lee</td>\n",
       "      <td>silence of the lambs, the (1991)</td>\n",
       "      <td>5</td>\n",
       "      <td>6039</td>\n",
       "      <td>128</td>\n",
       "    </tr>\n",
       "    <tr>\n",
       "      <th>4</th>\n",
       "      <td>lee</td>\n",
       "      <td>raiders of the lost ark (1981)</td>\n",
       "      <td>5</td>\n",
       "      <td>6039</td>\n",
       "      <td>127</td>\n",
       "    </tr>\n",
       "  </tbody>\n",
       "</table>\n",
       "</div>"
      ],
      "text/plain": [
       "        user_id                                        title  counts  user  \\\n",
       "1000203    5556                           modulations (1998)       3  1532   \n",
       "1000204    5949                           modulations (1998)       5  1649   \n",
       "1000205    5675                        broken vessels (1998)       3  1564   \n",
       "1000207    5851                     one little indian (1973)       5  1621   \n",
       "1000208    5938  five wives, three secretaries and me (1998)       4  4159   \n",
       "0           lee                            braveheart (1995)       5  6039   \n",
       "1           lee             shawshank redemption, the (1994)       5  6039   \n",
       "2           lee                          forrest gump (1994)       5  6039   \n",
       "3           lee             silence of the lambs, the (1991)       5  6039   \n",
       "4           lee               raiders of the lost ark (1981)       5  6039   \n",
       "\n",
       "         movie  \n",
       "1000203   3624  \n",
       "1000204   3624  \n",
       "1000205   3625  \n",
       "1000207   3626  \n",
       "1000208   3627  \n",
       "0           92  \n",
       "1          167  \n",
       "2          171  \n",
       "3          128  \n",
       "4          127  "
      ]
     },
     "execution_count": 17,
     "metadata": {},
     "output_type": "execute_result"
    }
   ],
   "source": [
    "'''\n",
    "indexing을 통해 데이터 컬럼 내 값을 바꾸는 코드\n",
    "'''\n",
    "\n",
    "df['user'] = df['user_id'].map(user_to_idx)\n",
    "df['movie'] = df['title'].map(movie_to_idx)\n",
    "df.tail(10)"
   ]
  },
  {
   "cell_type": "code",
   "execution_count": 18,
   "id": "greek-circular",
   "metadata": {
    "scrolled": true
   },
   "outputs": [
    {
     "name": "stdout",
     "output_type": "stream",
     "text": [
      "유저 수 :  6040 영화 수 :  3628\n"
     ]
    }
   ],
   "source": [
    "num2_user = len(user_to_idx)\n",
    "num2_movie = len(movie_to_idx)\n",
    "print('유저 수 : ', num2_user, '영화 수 : ', num2_movie)"
   ]
  },
  {
   "cell_type": "code",
   "execution_count": 19,
   "id": "earned-platinum",
   "metadata": {},
   "outputs": [
    {
     "name": "stdout",
     "output_type": "stream",
     "text": [
      "0       0\n",
      "1       1\n",
      "2       2\n",
      "3       3\n",
      "4       4\n",
      "     ... \n",
      "0    6039\n",
      "1    6039\n",
      "2    6039\n",
      "3    6039\n",
      "4    6039\n",
      "Name: user, Length: 836483, dtype: int64\n",
      "0      0\n",
      "1      0\n",
      "2      0\n",
      "3      0\n",
      "4      0\n",
      "    ... \n",
      "0     92\n",
      "1    167\n",
      "2    171\n",
      "3    128\n",
      "4    127\n",
      "Name: movie, Length: 836483, dtype: int64\n"
     ]
    }
   ],
   "source": [
    "# csr matrix 생성을 위한 행과 열의 특성변수 추출\n",
    "csr_row = df['user']\n",
    "csr_col = df['movie']\n",
    "print(csr_row); print(csr_col)"
   ]
  },
  {
   "cell_type": "code",
   "execution_count": 20,
   "id": "prescription-treasurer",
   "metadata": {},
   "outputs": [],
   "source": [
    "# csr matrix 생성을 위한 값 추출/저장\n",
    "df['counts'] = df['counts'].values.astype(np.float32)"
   ]
  },
  {
   "cell_type": "markdown",
   "id": "drawn-indianapolis",
   "metadata": {},
   "source": [
    "## (2) CSR(Compressed Sparse Row) Matrix 만들기"
   ]
  },
  {
   "cell_type": "code",
   "execution_count": 21,
   "id": "defensive-civilization",
   "metadata": {},
   "outputs": [
    {
     "data": {
      "text/plain": [
       "<6040x3628 sparse matrix of type '<class 'numpy.float32'>'\n",
       "\twith 836483 stored elements in Compressed Sparse Row format>"
      ]
     },
     "execution_count": 21,
     "metadata": {},
     "output_type": "execute_result"
    }
   ],
   "source": [
    "# csr matrix 생성\n",
    "num3_user = df['user'].nunique()\n",
    "num3_movie = df['movie'].nunique()\n",
    "\n",
    "csr_row = df['user']\n",
    "csr_col = df['movie']\n",
    "\n",
    "csr_data = csr_matrix((df.counts, (csr_row, csr_col)),\n",
    "                      shape= (num3_user, num3_movie))\n",
    "csr_data"
   ]
  },
  {
   "cell_type": "markdown",
   "id": "palestinian-stuff",
   "metadata": {},
   "source": [
    "## 5. AlternatingLeastSquares 모델 구성/학습"
   ]
  },
  {
   "cell_type": "code",
   "execution_count": 22,
   "id": "legitimate-lincoln",
   "metadata": {},
   "outputs": [],
   "source": [
    "# implicit 라이브러리에서 권장하고 있는 부분입니다. 학습 내용과는 무관합니다.\n",
    "os.environ['OPENBLAS_NUM_THREADS']='1'\n",
    "os.environ['KMP_DUPLICATE_LIB_OK']='True'\n",
    "os.environ['MKL_NUM_THREADS']='1'"
   ]
  },
  {
   "cell_type": "markdown",
   "id": "thrown-purse",
   "metadata": {},
   "source": [
    "### 모델 설정"
   ]
  },
  {
   "cell_type": "code",
   "execution_count": 23,
   "id": "driven-entity",
   "metadata": {},
   "outputs": [],
   "source": [
    "# Implicit AlternatingLeastSquares 모델의 선언\n",
    "als_model = AlternatingLeastSquares(factors=100, regularization=0.01, use_gpu=False, \n",
    "                                    iterations=15, dtype=np.float32)"
   ]
  },
  {
   "cell_type": "code",
   "execution_count": 24,
   "id": "radio-partnership",
   "metadata": {},
   "outputs": [
    {
     "data": {
      "text/plain": [
       "<3628x6040 sparse matrix of type '<class 'numpy.float32'>'\n",
       "\twith 836483 stored elements in Compressed Sparse Column format>"
      ]
     },
     "execution_count": 24,
     "metadata": {},
     "output_type": "execute_result"
    }
   ],
   "source": [
    "# als 모델은 input으로 (item X user 꼴의 matrix)를 받기 때문에 Transpose해줍니다.\n",
    "csr_data_transpose = csr_data.T\n",
    "csr_data_transpose"
   ]
  },
  {
   "cell_type": "code",
   "execution_count": 25,
   "id": "rental-nightmare",
   "metadata": {},
   "outputs": [
    {
     "data": {
      "application/vnd.jupyter.widget-view+json": {
       "model_id": "f81afe096d4b49da9c2b26b4a7da5f5b",
       "version_major": 2,
       "version_minor": 0
      },
      "text/plain": [
       "  0%|          | 0/15 [00:00<?, ?it/s]"
      ]
     },
     "metadata": {},
     "output_type": "display_data"
    }
   ],
   "source": [
    "# 모델 학습\n",
    "als_model.fit(csr_data_transpose)"
   ]
  },
  {
   "cell_type": "markdown",
   "id": "still-maine",
   "metadata": {},
   "source": [
    "# 6. 나의 선호도 파악"
   ]
  },
  {
   "cell_type": "code",
   "execution_count": 26,
   "id": "freelance-vessel",
   "metadata": {},
   "outputs": [
    {
     "name": "stdout",
     "output_type": "stream",
     "text": [
      "슝=3\n"
     ]
    }
   ],
   "source": [
    "lee, braveheart = user_to_idx['lee'], movie_to_idx['braveheart (1995)']\n",
    "lee_vector, braveheart_vector = als_model.user_factors[lee], als_model.item_factors[braveheart]\n",
    "\n",
    "print('슝=3')"
   ]
  },
  {
   "cell_type": "code",
   "execution_count": 27,
   "id": "continuing-single",
   "metadata": {},
   "outputs": [
    {
     "data": {
      "text/plain": [
       "array([-4.7407821e-01, -3.0173787e-01, -5.5350411e-01, -1.2507228e+00,\n",
       "        1.3797371e-01, -3.4291393e-01,  8.8551545e-01,  9.9414104e-01,\n",
       "        1.8046124e-01, -3.0430961e-01, -2.0363148e-01,  3.5292305e-02,\n",
       "       -2.8158364e-01,  3.5453761e-01, -2.1244992e-01, -4.1135246e-01,\n",
       "        3.7123090e-01,  3.6935526e-01,  2.9843956e-01,  4.8766392e-01,\n",
       "       -3.5362867e-01, -1.2296803e-01,  9.3423569e-01,  9.7524828e-01,\n",
       "        7.1684283e-01, -5.7151508e-01, -4.8107657e-01,  3.3009452e-01,\n",
       "       -2.4023756e-01,  8.9326531e-02, -7.7849162e-01,  8.0301680e-02,\n",
       "        4.9506012e-01,  4.3592051e-01,  1.8988363e-01, -8.0260806e-02,\n",
       "        8.8926011e-01, -1.1861677e-01,  2.1310141e-02, -3.6794779e-01,\n",
       "       -1.8095101e-01,  2.2329676e-01,  8.9875442e-01,  4.9379337e-01,\n",
       "       -3.9011055e-01, -5.0211579e-01,  3.6564910e-01,  1.2083043e+00,\n",
       "        4.7940263e-01,  3.1354675e-01, -2.5169516e-01, -1.0373830e+00,\n",
       "       -2.2473115e-01,  3.3978261e-02, -7.5652272e-01,  2.5914901e-01,\n",
       "        1.0079344e-01, -1.2716919e+00,  5.2061003e-01, -1.0596639e-01,\n",
       "        2.0899564e-02, -8.6553134e-02, -7.6326245e-01,  7.5525582e-01,\n",
       "       -7.4277890e-01, -2.5742203e-01,  5.2522951e-06, -4.1179419e-02,\n",
       "       -4.4660896e-01, -1.2262788e+00,  8.1187928e-01,  3.7644657e-01,\n",
       "        9.1143084e-01,  3.1631032e-01, -2.7093658e-01, -6.3525833e-02,\n",
       "       -9.8365498e-01,  7.0786256e-01,  1.1452532e+00,  4.3677324e-01,\n",
       "       -1.2503734e-01, -8.5632992e-01,  4.8794594e-01,  1.6243038e-01,\n",
       "        5.9434585e-02, -4.1888404e-01, -2.2378135e-01,  1.1127848e-01,\n",
       "       -1.4554341e-01, -9.4043240e-03,  4.4388488e-01, -2.9060128e-01,\n",
       "       -1.0137786e+00, -7.0578969e-01,  3.1831041e-01, -5.7819325e-01,\n",
       "        5.8279723e-01,  3.7179720e-01, -2.7208883e-01,  1.0353124e+00],\n",
       "      dtype=float32)"
      ]
     },
     "execution_count": 27,
     "metadata": {},
     "output_type": "execute_result"
    }
   ],
   "source": [
    "lee_vector"
   ]
  },
  {
   "cell_type": "code",
   "execution_count": 28,
   "id": "interim-capital",
   "metadata": {},
   "outputs": [
    {
     "data": {
      "text/plain": [
       "array([-0.01363069,  0.00192601, -0.00441781,  0.00404347, -0.0131976 ,\n",
       "        0.04178271,  0.02518606, -0.00578348, -0.0282063 , -0.02094601,\n",
       "       -0.03096948,  0.00757498,  0.00216159,  0.01567119, -0.00685607,\n",
       "       -0.00342591, -0.00818138,  0.00024078,  0.00023421,  0.01016039,\n",
       "        0.00679173,  0.00160818,  0.01430951,  0.03901727,  0.03974763,\n",
       "       -0.02048182,  0.00810888,  0.02640343, -0.0291489 , -0.00542768,\n",
       "       -0.00721166,  0.0162219 ,  0.02383581, -0.00832243,  0.00140947,\n",
       "       -0.01470398,  0.03068289, -0.00241532,  0.01778409, -0.01596903,\n",
       "        0.02423947, -0.00172261,  0.04022402, -0.00809222,  0.00994227,\n",
       "        0.00892343,  0.00298762,  0.02835308, -0.000143  ,  0.0101369 ,\n",
       "       -0.02108472, -0.03101372, -0.02219284,  0.01676557,  0.01454677,\n",
       "       -0.00963585,  0.00493853, -0.02798849,  0.01082167, -0.00166858,\n",
       "       -0.00261574, -0.00040846, -0.00090946,  0.00522209, -0.0153891 ,\n",
       "       -0.00172048,  0.01972117,  0.03813114,  0.01446379, -0.02438598,\n",
       "        0.03775909,  0.02369609,  0.06010694,  0.04735182, -0.01916317,\n",
       "        0.01043892, -0.03548073,  0.02443768,  0.01583289,  0.01583544,\n",
       "        0.0012699 , -0.0071359 ,  0.00902013,  0.0072488 ,  0.02082853,\n",
       "        0.006934  ,  0.00371672,  0.00010587,  0.03230507, -0.00650896,\n",
       "        0.03229593, -0.02983724, -0.017367  , -0.02310845,  0.00877436,\n",
       "        0.00942079,  0.05180885,  0.04600826, -0.01387832,  0.01408426],\n",
       "      dtype=float32)"
      ]
     },
     "execution_count": 28,
     "metadata": {},
     "output_type": "execute_result"
    }
   ],
   "source": [
    "braveheart_vector"
   ]
  },
  {
   "cell_type": "code",
   "execution_count": 29,
   "id": "olive-beauty",
   "metadata": {},
   "outputs": [
    {
     "data": {
      "text/plain": [
       "0.65486914"
      ]
     },
     "execution_count": 29,
     "metadata": {},
     "output_type": "execute_result"
    }
   ],
   "source": [
    "# lee와 braveheart를 내적하는 코드\n",
    "np.dot(lee_vector, braveheart_vector)"
   ]
  },
  {
   "cell_type": "markdown",
   "id": "average-plain",
   "metadata": {},
   "source": [
    "나의 영화에 대한 선호도를 어떻게 예측하는지 확인하자.  \n",
    "사용자와 아티스트 벡터 내적이 0.5를 기준으로 그보다 높으면 모델이 선호한다고 판단할 수 있다.  그런 관점에서 \"브레이브 하트\"는 내가 좋아하는 영화중 하나로 수긍이 가는 점수를 제시한다."
   ]
  },
  {
   "cell_type": "code",
   "execution_count": 30,
   "id": "departmental-collar",
   "metadata": {},
   "outputs": [
    {
     "data": {
      "text/plain": [
       "0.39180237"
      ]
     },
     "execution_count": 30,
     "metadata": {},
     "output_type": "execute_result"
    }
   ],
   "source": [
    "title_id = movie_to_idx['fargo (1996)']   \n",
    "movie_vector = als_model.item_factors[title_id]\n",
    "np.dot(lee_vector, movie_vector)"
   ]
  },
  {
   "cell_type": "markdown",
   "id": "challenging-booking",
   "metadata": {},
   "source": [
    "모델은 내가 '파고'를 그다지 좋아하지 않을 것으로 보내요."
   ]
  },
  {
   "cell_type": "markdown",
   "id": "successful-index",
   "metadata": {},
   "source": [
    "# 7. 비슷한 영화 찾기 : simmilar_items 메서드 사용"
   ]
  },
  {
   "cell_type": "markdown",
   "id": "civic-pathology",
   "metadata": {},
   "source": [
    "AlternatingLeastSquares 클래스에 구현되어 있는 similar_items 메서드를 통하여 비슷한 아티스트를 찾습니다. 처음으로는 제가 좋아하는 \"양들의 침묵\"으로 찾아보겠습니다."
   ]
  },
  {
   "cell_type": "code",
   "execution_count": 31,
   "id": "bored-indonesia",
   "metadata": {},
   "outputs": [
    {
     "name": "stdout",
     "output_type": "stream",
     "text": [
      "슝=3\n"
     ]
    }
   ],
   "source": [
    "\n",
    "def get_similar_movie(title: str):\n",
    "    idx_to_movie = {v:k for k,v in movie_to_idx.items()}\n",
    "    \n",
    "    movie_id = movie_to_idx[title]\n",
    "    similar_movie = als_model.similar_items(movie_id)\n",
    "    similar_movie = [idx_to_movie[i[0]] for i in similar_movie]\n",
    "    return similar_movie\n",
    "\n",
    "print(\"슝=3\")"
   ]
  },
  {
   "cell_type": "code",
   "execution_count": 32,
   "id": "balanced-guatemala",
   "metadata": {
    "scrolled": true
   },
   "outputs": [
    {
     "data": {
      "text/plain": [
       "['silence of the lambs, the (1991)',\n",
       " 'shawshank redemption, the (1994)',\n",
       " 'fargo (1996)',\n",
       " 'pulp fiction (1994)',\n",
       " \"schindler's list (1993)\",\n",
       " 'usual suspects, the (1995)',\n",
       " 'goodfellas (1990)',\n",
       " 'good will hunting (1997)',\n",
       " 'sixth sense, the (1999)',\n",
       " 'sling blade (1996)']"
      ]
     },
     "execution_count": 32,
     "metadata": {},
     "output_type": "execute_result"
    }
   ],
   "source": [
    "get_similar_movie('silence of the lambs, the (1991)')"
   ]
  },
  {
   "cell_type": "markdown",
   "id": "armed-digit",
   "metadata": {},
   "source": [
    "유사한 영화로 '쇼생크 탈출', '파고', '퍼플 픽션', '쉰들러 리스트', '좋은 친구들', '언유졀 서스펙트', '식스 센스', '굿윌헌팅' '엘에이 컨피던셜'을 제시하였다.   \n",
    "'세븐'이 들어가지 않은게 아쉽고, '파고'는 왜 들어갔는지 의문이다."
   ]
  },
  {
   "cell_type": "markdown",
   "id": "played-hotel",
   "metadata": {},
   "source": [
    "# 8. 유저에게 영화 추천하기 : recommend와 explain 메서드"
   ]
  },
  {
   "cell_type": "code",
   "execution_count": 38,
   "id": "palestinian-cartridge",
   "metadata": {},
   "outputs": [],
   "source": [
    "def get_recommanded_movie(user: str):\n",
    "    idx_to_movie = {v:k for k,v in movie_to_idx.items()}\n",
    "    \n",
    "    user = user_to_idx['lee']\n",
    "    movie_recommended = als_model.recommend(user, csr_data, N=20, filter_already_liked_items=True)\n",
    "    movie_recommended = [idx_to_movie[i[0]] for i in movie_recommended]\n",
    "    return movie_recommended\n",
    "\n",
    "\n",
    "def get_explained_movie(user:str, title:str):\n",
    "    idx_to_movie = {v:k for k,v in movie_to_idx.items()}\n",
    "    \n",
    "    user = user_to_idx['lee']\n",
    "    title_id = movie_to_idx[title]\n",
    "    explain = als_model.explain(user, csr_data, itemid=title_id)\n",
    "    explain = [(idx_to_movie[i[0]], i[1]) for i in explain[1]]\n",
    "    return explain"
   ]
  },
  {
   "cell_type": "markdown",
   "id": "going-buffalo",
   "metadata": {},
   "source": [
    "AlternatingLeastSquares 클래스에 구현되어 있는 recommend 메서드를 통하여 제가 좋아할 만한 아티스트를 추천받습니다. filter_already_liked_items 는 유저가 이미 평가한 아이템은 제외하는 Argument입니다."
   ]
  },
  {
   "cell_type": "code",
   "execution_count": 39,
   "id": "loved-maintenance",
   "metadata": {},
   "outputs": [
    {
     "data": {
      "text/plain": [
       "['saving private ryan (1998)',\n",
       " \"schindler's list (1993)\",\n",
       " 'star wars: episode v - the empire strikes back (1980)',\n",
       " 'star wars: episode iv - a new hope (1977)',\n",
       " 'fargo (1996)',\n",
       " 'good will hunting (1997)',\n",
       " 'star wars: episode vi - return of the jedi (1983)',\n",
       " 'pulp fiction (1994)',\n",
       " 'american beauty (1999)',\n",
       " 'princess bride, the (1987)',\n",
       " 'groundhog day (1993)',\n",
       " 'back to the future (1985)',\n",
       " 'boat, the (das boot) (1981)',\n",
       " 'fugitive, the (1993)',\n",
       " 'goodfellas (1990)',\n",
       " 'l.a. confidential (1997)',\n",
       " 'indiana jones and the last crusade (1989)',\n",
       " 'sixth sense, the (1999)',\n",
       " 'matrix, the (1999)',\n",
       " 'die hard (1988)']"
      ]
     },
     "execution_count": 39,
     "metadata": {},
     "output_type": "execute_result"
    }
   ],
   "source": [
    "get_recommanded_movie('lee')"
   ]
  },
  {
   "cell_type": "markdown",
   "id": "beginning-creator",
   "metadata": {},
   "source": [
    "### 추천영화 추천 이유"
   ]
  },
  {
   "cell_type": "markdown",
   "id": "gorgeous-february",
   "metadata": {},
   "source": [
    "모델이 영화를 추천해준 이유를 알기 위해 AlternatingLeastSquares 클래스에 구현된 explain 메소드를 사용한다.   나가 남긴 데이터 중 이 추천에 기여한 정도를 확인할 수 있습니다.  어떤 영화들이 추천점수에 얼마나 기여하고 있는걸까?"
   ]
  },
  {
   "cell_type": "code",
   "execution_count": 40,
   "id": "sublime-import",
   "metadata": {},
   "outputs": [
    {
     "data": {
      "text/plain": [
       "[('shawshank redemption, the (1994)', 0.16981466274129955),\n",
       " ('silence of the lambs, the (1991)', 0.09780844883955331),\n",
       " ('braveheart (1995)', 0.060877245022735206),\n",
       " ('raiders of the lost ark (1981)', 0.030128754619611026),\n",
       " ('forrest gump (1994)', 0.019467321539716337)]"
      ]
     },
     "execution_count": 40,
     "metadata": {},
     "output_type": "execute_result"
    }
   ],
   "source": [
    "get_explained_movie('lee','good will hunting (1997)' )"
   ]
  },
  {
   "cell_type": "markdown",
   "id": "automatic-delicious",
   "metadata": {},
   "source": [
    "쇼생크탈출 > 양들의 침묵 > 브레이브하트 > 레이더스 잃어버린 성괘 > 포레스트 검프 순으로 추천에 영향을 주었다."
   ]
  },
  {
   "cell_type": "markdown",
   "id": "understanding-roommate",
   "metadata": {},
   "source": [
    "# Ⅳ. 결론"
   ]
  },
  {
   "cell_type": "markdown",
   "id": "medieval-jimmy",
   "metadata": {},
   "source": [
    "## 1. 결과 분석"
   ]
  },
  {
   "cell_type": "markdown",
   "id": "driven-fairy",
   "metadata": {},
   "source": [
    "- 유사한 영화목록은 대체로 무난하지만 명확한 이유는 알 수 없다.   \n",
    "- 추천 영화 목록은 대부분 내가 봤던 영화였고 좋아하는 영화들이다.   \n",
    "- 추천이유도 대체로 타당해 보인다."
   ]
  },
  {
   "cell_type": "markdown",
   "id": "brutal-exemption",
   "metadata": {},
   "source": [
    "## 2. 차후 과제"
   ]
  },
  {
   "cell_type": "markdown",
   "id": "celtic-collect",
   "metadata": {},
   "source": [
    "- 상품목록과 상품의 특성을 다양한 특성요소로 반영하여 학습하고 결과를 도출\n",
    "- 본 과정을 진행하면서 조금 아쉬운 것은 MF 모델과 ALS모델이 혼재되었다는 점이다. 같은 것인듯 다른 것인듯하다.    \n",
    "- 다양한 추천 알고리즘이 있다고 한다. 다양한 모델을 비교 해보자."
   ]
  },
  {
   "cell_type": "code",
   "execution_count": null,
   "id": "adjacent-decline",
   "metadata": {},
   "outputs": [],
   "source": []
  }
 ],
 "metadata": {
  "kernelspec": {
   "display_name": "Python 3",
   "language": "python",
   "name": "python3"
  },
  "language_info": {
   "codemirror_mode": {
    "name": "ipython",
    "version": 3
   },
   "file_extension": ".py",
   "mimetype": "text/x-python",
   "name": "python",
   "nbconvert_exporter": "python",
   "pygments_lexer": "ipython3",
   "version": "3.7.9"
  }
 },
 "nbformat": 4,
 "nbformat_minor": 5
}
